{
  "nbformat": 4,
  "nbformat_minor": 0,
  "metadata": {
    "colab": {
      "name": "WoodsKPythonAssignment2.ipynb",
      "provenance": [],
      "collapsed_sections": [],
      "include_colab_link": true
    },
    "kernelspec": {
      "name": "python3",
      "display_name": "Python 3"
    },
    "language_info": {
      "name": "python"
    }
  },
  "cells": [
    {
      "cell_type": "markdown",
      "metadata": {
        "id": "view-in-github",
        "colab_type": "text"
      },
      "source": [
        "<a href=\"https://colab.research.google.com/github/woodskd24/MSDataScience/blob/main/WoodsKPythonAssignment2.ipynb\" target=\"_parent\"><img src=\"https://colab.research.google.com/assets/colab-badge.svg\" alt=\"Open In Colab\"/></a>"
      ]
    },
    {
      "cell_type": "markdown",
      "metadata": {
        "id": "Rwo422ngrMme"
      },
      "source": [
        "Question#1 : 20 Points\n",
        "\n",
        "Build the class and name it as \"Purchase\" with the following requirements:\n",
        "\n",
        "    Attributes :\n",
        "    item_name (string)\n",
        "    item_price (int)\n",
        "    item_quantity (int)\n",
        "    \n",
        "    Default constructor: With the following default values\n",
        "    Item_name = \"none\", \n",
        "    item_price = 0, \n",
        "    item_quantity = 0\n",
        "\n",
        "    Method:\n",
        "    item_cost()\n",
        "\n",
        "    This method should calculate the item cost example :\n",
        "    Coca Cola 10 @ $1 = $10\n",
        "\n",
        "If there are more than one item then you should add up the cost.\n",
        "    Item 1\n",
        "    Enter the item name: Chocolate \n",
        "    Enter the item price:3\n",
        "    Enter the item quantity:1\n",
        "\n",
        "    Item 2\n",
        "    Enter the item name: Cola\n",
        "    Enter the item price: 1\n",
        "    Enter the item quantity: 10\n",
        "\n",
        "(3) Add the costs of the two items together and output the total cost. \n",
        "\n",
        "    Ex:\n",
        "    TOTAL COST\n",
        "    Chocolate 1 @ $3 = $3\n",
        "    Cola 10 @ $1 = $10\n",
        "    Total: $13"
      ]
    },
    {
      "cell_type": "code",
      "source": [
        "class Purchases():\n",
        "  org_name = \"Store Purchase\"\n",
        "  listofpurchases = []\n",
        "  def __init__(self, item_name = \"None\", item_price = 0, item_quantity = 0):\n",
        "\n",
        "      self.item_name = str(input(\"Name: \"))\n",
        "      self.item_price = int(input(\"Price: \"))\n",
        "      self.item_quantity = int(input(\"Quantity: \"))\n",
        "      self.item_name1 = str(input(\"Second Item Name: \"))\n",
        "      self.item_price1 = int(input(\"Second Item Price: \"))\n",
        "      self.item_quantity1 = int(input(\"Second Item Quantity: \"))\n",
        "      Purchases.listofpurchases.append(self)\n",
        "      \n",
        "  def item_cost1(self):\n",
        "    result1 =  self.item_price*self.item_quantity\n",
        "    print(\"The total is ${} for {} {}\".format(result1, self.item_quantity, self.item_name))\n",
        "    result2 =  self.item_price1*self.item_quantity1\n",
        "    print(\"The total is ${} for {} {}\".format(result2, self.item_quantity1, self.item_name1))\n",
        "    result3 = result1 + result2\n",
        "    print(\"The cost of the {} and {} together is ${}\".format(self.item_name, self.item_name1, result3))"
      ],
      "metadata": {
        "id": "I6-LrCu3sH0e"
      },
      "execution_count": null,
      "outputs": []
    },
    {
      "cell_type": "code",
      "source": [
        "bank = Purchases(\"Bread\",5,6)\n",
        "bank.item_cost1()"
      ],
      "metadata": {
        "colab": {
          "base_uri": "https://localhost:8080/"
        },
        "id": "UYTo7ry4QJIn",
        "outputId": "381df5fe-d59c-4e0f-abaf-14bde44941e3"
      },
      "execution_count": null,
      "outputs": [
        {
          "output_type": "stream",
          "name": "stdout",
          "text": [
            "Name: grapefruit\n",
            "Price: 46\n",
            "Quantity: 12\n",
            "Second Item Name: horse\n",
            "Second Item Price: 12000\n",
            "Second Item Quantity: 1\n",
            "The total is $552 for 12 grapefruit\n",
            "The total is $12000 for 1 horse\n",
            "The cost of the grapefruit and horse together is $12552\n"
          ]
        }
      ]
    },
    {
      "cell_type": "markdown",
      "metadata": {
        "id": "xxz8augHib6N"
      },
      "source": [
        "Question #2\n",
        "Point : 10\n",
        "\n",
        "Write a class called Calculator that performs basic functions of a calculator: add, subtract, multiply, divide, and clear. \n",
        "\n"
      ]
    },
    {
      "cell_type": "code",
      "metadata": {
        "id": "5Ce-X87Jpr_H"
      },
      "source": [
        "class Calculator():\n",
        "    def __init__(self, numb: int, numbe: int):\n",
        "      self.numb = numb\n",
        "      self.numbe = numbe\n",
        "def multiply(numb, numbe):\n",
        "  result = []\n",
        "  for i in numb:\n",
        "    for x in numbe:\n",
        "     result.append(i*x)\n",
        "  return result\n",
        "def divide(numb, numbe):\n",
        "  result = []\n",
        "  for i in numb:\n",
        "    for x in numbe:\n",
        "     result.append(i//x)\n",
        "  return result\n",
        "def substract(numb, numbe):\n",
        "  result = []\n",
        "  for i in numb:\n",
        "    for x in numbe:\n",
        "     result.append(i-x)\n",
        "  return result\n",
        "def addition(numb, numbe):\n",
        "  result = []\n",
        "  for i in numb:\n",
        "    for x in numbe:\n",
        "     result.append(i+x)\n",
        "  return result\n",
        "def clear(numb, numbe):\n",
        "  result = []\n",
        "  for i in numb:\n",
        "    for x in numbe:\n",
        "     result.clear()\n",
        "  return result"
      ],
      "execution_count": null,
      "outputs": []
    },
    {
      "cell_type": "code",
      "metadata": {
        "id": "R4Wknqybprrn",
        "colab": {
          "base_uri": "https://localhost:8080/"
        },
        "outputId": "3aa004f6-a903-4550-ee91-5f49a49ed6d3"
      },
      "source": [
        "my_list =multiply([90], [80])\n",
        "print(my_list)"
      ],
      "execution_count": null,
      "outputs": [
        {
          "output_type": "stream",
          "name": "stdout",
          "text": [
            "[7200]\n"
          ]
        }
      ]
    },
    {
      "cell_type": "code",
      "source": [
        "my_list =divide([90], [80])\n",
        "print(my_list)"
      ],
      "metadata": {
        "colab": {
          "base_uri": "https://localhost:8080/"
        },
        "id": "xot4B-GUUN4I",
        "outputId": "abe22fa4-bc56-49c1-bba7-08585c89e261"
      },
      "execution_count": null,
      "outputs": [
        {
          "output_type": "stream",
          "name": "stdout",
          "text": [
            "[1]\n"
          ]
        }
      ]
    },
    {
      "cell_type": "code",
      "source": [
        "my_list =substract([90], [80])\n",
        "print(my_list)"
      ],
      "metadata": {
        "colab": {
          "base_uri": "https://localhost:8080/"
        },
        "id": "OZAevcMzS1c2",
        "outputId": "7ac73406-873c-48b5-f93f-3fe832279eeb"
      },
      "execution_count": null,
      "outputs": [
        {
          "output_type": "stream",
          "name": "stdout",
          "text": [
            "[10]\n"
          ]
        }
      ]
    },
    {
      "cell_type": "code",
      "source": [
        "my_list =addition([90], [80])\n",
        "print(my_list)"
      ],
      "metadata": {
        "colab": {
          "base_uri": "https://localhost:8080/"
        },
        "id": "FEiHh_5KUAQ0",
        "outputId": "86bd483f-6783-46e9-9da8-4459c27ff77a"
      },
      "execution_count": null,
      "outputs": [
        {
          "output_type": "stream",
          "name": "stdout",
          "text": [
            "[170]\n"
          ]
        }
      ]
    },
    {
      "cell_type": "code",
      "source": [
        "my_list =clear([90], [80])\n",
        "print(my_list)"
      ],
      "metadata": {
        "colab": {
          "base_uri": "https://localhost:8080/"
        },
        "id": "jSDmw1w7U7Cy",
        "outputId": "fba96fff-5ea0-4dd4-e096-e9f287320086"
      },
      "execution_count": null,
      "outputs": [
        {
          "output_type": "stream",
          "name": "stdout",
          "text": [
            "[]\n"
          ]
        }
      ]
    },
    {
      "cell_type": "markdown",
      "metadata": {
        "id": "1A0bmhmGitTC"
      },
      "source": [
        "Question#3\n",
        "\n",
        "Points : 10\n",
        "\n",
        "Define the Student class that has two attributes: name and gpa\n",
        "\n",
        "Implement the following instance methods:\n",
        "\n",
        "A constructor that sets name to \"Default name\"(What ever you want to give) and gpa to 1.0\n",
        "set_name(self, name) - set student's name to parameter name\n",
        "get_name(self) - return student's name\n",
        "set_gpa(self, gpa) - set student's gpa to parameter gpa\n",
        "get_gpa(self) - return student's gpa\n",
        "Ex. If a new Student object is created, the default output is:\n",
        "\n",
        "Default name/1.0\n",
        "Ex. If the student's name is set to \"Frank\" and the gpa is set to 3.7, the output becomes:\n",
        "\n",
        "Frank/3.7"
      ]
    },
    {
      "cell_type": "code",
      "source": [
        "class Student():\n",
        "  list_of_students = []\n",
        "  def __init__(self, name: str, gpa: float):\n",
        "    self.name = str(input(\"Name: \"))\n",
        "    self.gpa = float(input(\"GPA: \"))\n",
        "    assert self.gpa > 0.0\n",
        "    print(\"{}/{}\".format(self.name, self.gpa))\n",
        "\n",
        "\n"
      ],
      "metadata": {
        "id": "EB1QYbAOVTGi"
      },
      "execution_count": null,
      "outputs": []
    },
    {
      "cell_type": "code",
      "source": [
        "store1 = Student(\"Example\", 0)"
      ],
      "metadata": {
        "colab": {
          "base_uri": "https://localhost:8080/",
          "height": 537
        },
        "id": "AM6oMuoCWrGk",
        "outputId": "668c163b-5826-41e5-ec53-0088b8f8a121"
      },
      "execution_count": null,
      "outputs": [
        {
          "output_type": "error",
          "ename": "KeyboardInterrupt",
          "evalue": "ignored",
          "traceback": [
            "\u001b[0;31m---------------------------------------------------------------------------\u001b[0m",
            "\u001b[0;31mKeyboardInterrupt\u001b[0m                         Traceback (most recent call last)",
            "\u001b[0;32m/usr/local/lib/python3.7/dist-packages/ipykernel/kernelbase.py\u001b[0m in \u001b[0;36m_input_request\u001b[0;34m(self, prompt, ident, parent, password)\u001b[0m\n\u001b[1;32m    728\u001b[0m             \u001b[0;32mtry\u001b[0m\u001b[0;34m:\u001b[0m\u001b[0;34m\u001b[0m\u001b[0;34m\u001b[0m\u001b[0m\n\u001b[0;32m--> 729\u001b[0;31m                 \u001b[0mident\u001b[0m\u001b[0;34m,\u001b[0m \u001b[0mreply\u001b[0m \u001b[0;34m=\u001b[0m \u001b[0mself\u001b[0m\u001b[0;34m.\u001b[0m\u001b[0msession\u001b[0m\u001b[0;34m.\u001b[0m\u001b[0mrecv\u001b[0m\u001b[0;34m(\u001b[0m\u001b[0mself\u001b[0m\u001b[0;34m.\u001b[0m\u001b[0mstdin_socket\u001b[0m\u001b[0;34m,\u001b[0m \u001b[0;36m0\u001b[0m\u001b[0;34m)\u001b[0m\u001b[0;34m\u001b[0m\u001b[0;34m\u001b[0m\u001b[0m\n\u001b[0m\u001b[1;32m    730\u001b[0m             \u001b[0;32mexcept\u001b[0m \u001b[0mException\u001b[0m\u001b[0;34m:\u001b[0m\u001b[0;34m\u001b[0m\u001b[0;34m\u001b[0m\u001b[0m\n",
            "\u001b[0;32m/usr/local/lib/python3.7/dist-packages/jupyter_client/session.py\u001b[0m in \u001b[0;36mrecv\u001b[0;34m(self, socket, mode, content, copy)\u001b[0m\n\u001b[1;32m    802\u001b[0m         \u001b[0;32mtry\u001b[0m\u001b[0;34m:\u001b[0m\u001b[0;34m\u001b[0m\u001b[0;34m\u001b[0m\u001b[0m\n\u001b[0;32m--> 803\u001b[0;31m             \u001b[0mmsg_list\u001b[0m \u001b[0;34m=\u001b[0m \u001b[0msocket\u001b[0m\u001b[0;34m.\u001b[0m\u001b[0mrecv_multipart\u001b[0m\u001b[0;34m(\u001b[0m\u001b[0mmode\u001b[0m\u001b[0;34m,\u001b[0m \u001b[0mcopy\u001b[0m\u001b[0;34m=\u001b[0m\u001b[0mcopy\u001b[0m\u001b[0;34m)\u001b[0m\u001b[0;34m\u001b[0m\u001b[0;34m\u001b[0m\u001b[0m\n\u001b[0m\u001b[1;32m    804\u001b[0m         \u001b[0;32mexcept\u001b[0m \u001b[0mzmq\u001b[0m\u001b[0;34m.\u001b[0m\u001b[0mZMQError\u001b[0m \u001b[0;32mas\u001b[0m \u001b[0me\u001b[0m\u001b[0;34m:\u001b[0m\u001b[0;34m\u001b[0m\u001b[0;34m\u001b[0m\u001b[0m\n",
            "\u001b[0;32m/usr/local/lib/python3.7/dist-packages/zmq/sugar/socket.py\u001b[0m in \u001b[0;36mrecv_multipart\u001b[0;34m(self, flags, copy, track)\u001b[0m\n\u001b[1;32m    726\u001b[0m         \"\"\"\n\u001b[0;32m--> 727\u001b[0;31m         \u001b[0mparts\u001b[0m \u001b[0;34m=\u001b[0m \u001b[0;34m[\u001b[0m\u001b[0mself\u001b[0m\u001b[0;34m.\u001b[0m\u001b[0mrecv\u001b[0m\u001b[0;34m(\u001b[0m\u001b[0mflags\u001b[0m\u001b[0;34m,\u001b[0m \u001b[0mcopy\u001b[0m\u001b[0;34m=\u001b[0m\u001b[0mcopy\u001b[0m\u001b[0;34m,\u001b[0m \u001b[0mtrack\u001b[0m\u001b[0;34m=\u001b[0m\u001b[0mtrack\u001b[0m\u001b[0;34m)\u001b[0m\u001b[0;34m]\u001b[0m\u001b[0;34m\u001b[0m\u001b[0;34m\u001b[0m\u001b[0m\n\u001b[0m\u001b[1;32m    728\u001b[0m         \u001b[0;31m# have first part already, only loop while more to receive\u001b[0m\u001b[0;34m\u001b[0m\u001b[0;34m\u001b[0m\u001b[0;34m\u001b[0m\u001b[0m\n",
            "\u001b[0;32mzmq/backend/cython/socket.pyx\u001b[0m in \u001b[0;36mzmq.backend.cython.socket.Socket.recv\u001b[0;34m()\u001b[0m\n",
            "\u001b[0;32mzmq/backend/cython/socket.pyx\u001b[0m in \u001b[0;36mzmq.backend.cython.socket.Socket.recv\u001b[0;34m()\u001b[0m\n",
            "\u001b[0;32mzmq/backend/cython/socket.pyx\u001b[0m in \u001b[0;36mzmq.backend.cython.socket._recv_copy\u001b[0;34m()\u001b[0m\n",
            "\u001b[0;32m/usr/local/lib/python3.7/dist-packages/zmq/backend/cython/checkrc.pxd\u001b[0m in \u001b[0;36mzmq.backend.cython.checkrc._check_rc\u001b[0;34m()\u001b[0m\n",
            "\u001b[0;31mKeyboardInterrupt\u001b[0m: ",
            "\nDuring handling of the above exception, another exception occurred:\n",
            "\u001b[0;31mKeyboardInterrupt\u001b[0m                         Traceback (most recent call last)",
            "\u001b[0;32m<ipython-input-10-f22d3b5f4078>\u001b[0m in \u001b[0;36m<module>\u001b[0;34m()\u001b[0m\n\u001b[0;32m----> 1\u001b[0;31m \u001b[0mstore1\u001b[0m \u001b[0;34m=\u001b[0m \u001b[0mStudent\u001b[0m\u001b[0;34m(\u001b[0m\u001b[0;34m\"Example\"\u001b[0m\u001b[0;34m,\u001b[0m \u001b[0;36m0\u001b[0m\u001b[0;34m)\u001b[0m\u001b[0;34m\u001b[0m\u001b[0;34m\u001b[0m\u001b[0m\n\u001b[0m",
            "\u001b[0;32m<ipython-input-9-0766cebd11a5>\u001b[0m in \u001b[0;36m__init__\u001b[0;34m(self, name, gpa)\u001b[0m\n\u001b[1;32m      2\u001b[0m   \u001b[0mlist_of_students\u001b[0m \u001b[0;34m=\u001b[0m \u001b[0;34m[\u001b[0m\u001b[0;34m]\u001b[0m\u001b[0;34m\u001b[0m\u001b[0;34m\u001b[0m\u001b[0m\n\u001b[1;32m      3\u001b[0m   \u001b[0;32mdef\u001b[0m \u001b[0m__init__\u001b[0m\u001b[0;34m(\u001b[0m\u001b[0mself\u001b[0m\u001b[0;34m,\u001b[0m \u001b[0mname\u001b[0m\u001b[0;34m:\u001b[0m \u001b[0mstr\u001b[0m\u001b[0;34m,\u001b[0m \u001b[0mgpa\u001b[0m\u001b[0;34m:\u001b[0m \u001b[0mfloat\u001b[0m\u001b[0;34m)\u001b[0m\u001b[0;34m:\u001b[0m\u001b[0;34m\u001b[0m\u001b[0;34m\u001b[0m\u001b[0m\n\u001b[0;32m----> 4\u001b[0;31m     \u001b[0mself\u001b[0m\u001b[0;34m.\u001b[0m\u001b[0mname\u001b[0m \u001b[0;34m=\u001b[0m \u001b[0mstr\u001b[0m\u001b[0;34m(\u001b[0m\u001b[0minput\u001b[0m\u001b[0;34m(\u001b[0m\u001b[0;34m\"Name: \"\u001b[0m\u001b[0;34m)\u001b[0m\u001b[0;34m)\u001b[0m\u001b[0;34m\u001b[0m\u001b[0;34m\u001b[0m\u001b[0m\n\u001b[0m\u001b[1;32m      5\u001b[0m     \u001b[0mself\u001b[0m\u001b[0;34m.\u001b[0m\u001b[0mgpa\u001b[0m \u001b[0;34m=\u001b[0m \u001b[0mfloat\u001b[0m\u001b[0;34m(\u001b[0m\u001b[0minput\u001b[0m\u001b[0;34m(\u001b[0m\u001b[0;34m\"GPA: \"\u001b[0m\u001b[0;34m)\u001b[0m\u001b[0;34m)\u001b[0m\u001b[0;34m\u001b[0m\u001b[0;34m\u001b[0m\u001b[0m\n\u001b[1;32m      6\u001b[0m     \u001b[0;32massert\u001b[0m \u001b[0mself\u001b[0m\u001b[0;34m.\u001b[0m\u001b[0mgpa\u001b[0m \u001b[0;34m>\u001b[0m \u001b[0;36m0.0\u001b[0m\u001b[0;34m\u001b[0m\u001b[0;34m\u001b[0m\u001b[0m\n",
            "\u001b[0;32m/usr/local/lib/python3.7/dist-packages/ipykernel/kernelbase.py\u001b[0m in \u001b[0;36mraw_input\u001b[0;34m(self, prompt)\u001b[0m\n\u001b[1;32m    702\u001b[0m             \u001b[0mself\u001b[0m\u001b[0;34m.\u001b[0m\u001b[0m_parent_ident\u001b[0m\u001b[0;34m,\u001b[0m\u001b[0;34m\u001b[0m\u001b[0;34m\u001b[0m\u001b[0m\n\u001b[1;32m    703\u001b[0m             \u001b[0mself\u001b[0m\u001b[0;34m.\u001b[0m\u001b[0m_parent_header\u001b[0m\u001b[0;34m,\u001b[0m\u001b[0;34m\u001b[0m\u001b[0;34m\u001b[0m\u001b[0m\n\u001b[0;32m--> 704\u001b[0;31m             \u001b[0mpassword\u001b[0m\u001b[0;34m=\u001b[0m\u001b[0;32mFalse\u001b[0m\u001b[0;34m,\u001b[0m\u001b[0;34m\u001b[0m\u001b[0;34m\u001b[0m\u001b[0m\n\u001b[0m\u001b[1;32m    705\u001b[0m         )\n\u001b[1;32m    706\u001b[0m \u001b[0;34m\u001b[0m\u001b[0m\n",
            "\u001b[0;32m/usr/local/lib/python3.7/dist-packages/ipykernel/kernelbase.py\u001b[0m in \u001b[0;36m_input_request\u001b[0;34m(self, prompt, ident, parent, password)\u001b[0m\n\u001b[1;32m    732\u001b[0m             \u001b[0;32mexcept\u001b[0m \u001b[0mKeyboardInterrupt\u001b[0m\u001b[0;34m:\u001b[0m\u001b[0;34m\u001b[0m\u001b[0;34m\u001b[0m\u001b[0m\n\u001b[1;32m    733\u001b[0m                 \u001b[0;31m# re-raise KeyboardInterrupt, to truncate traceback\u001b[0m\u001b[0;34m\u001b[0m\u001b[0;34m\u001b[0m\u001b[0;34m\u001b[0m\u001b[0m\n\u001b[0;32m--> 734\u001b[0;31m                 \u001b[0;32mraise\u001b[0m \u001b[0mKeyboardInterrupt\u001b[0m\u001b[0;34m\u001b[0m\u001b[0;34m\u001b[0m\u001b[0m\n\u001b[0m\u001b[1;32m    735\u001b[0m             \u001b[0;32melse\u001b[0m\u001b[0;34m:\u001b[0m\u001b[0;34m\u001b[0m\u001b[0;34m\u001b[0m\u001b[0m\n\u001b[1;32m    736\u001b[0m                 \u001b[0;32mbreak\u001b[0m\u001b[0;34m\u001b[0m\u001b[0;34m\u001b[0m\u001b[0m\n",
            "\u001b[0;31mKeyboardInterrupt\u001b[0m: "
          ]
        }
      ]
    },
    {
      "cell_type": "markdown",
      "metadata": {
        "id": "NetjI26fjKfC"
      },
      "source": [
        "Question#4\n",
        "\n",
        "Points : 10\n",
        "\n",
        "Build a class called BankAccount that manages checking and savings accounts. \n",
        "\n",
        "    Attributes: \n",
        "              customer name, \n",
        "              the customer's savings account balance, \n",
        "              and the customer's checking account balance.\n",
        "    \n",
        "    Constructor with parameters (self, new_name, checking_balance, savings_balance) \n",
        "    \n",
        "    deposit_checking(self, amount) - add parameter amount to the checking account balance (only if positive)\n",
        "\n",
        "    deposit_savings(self, amount) - add parameter amount to the savings account balance (only if positive)\n",
        "\n",
        "\n",
        "    withdraw_checking(self, amount) - subtract parameter amount from the checking account balance (only if positive)\n",
        "\n",
        "\n",
        "    withdraw_savings(self, amount) - subtract parameter amount from the savings account balance (only if positive)\n",
        "\n",
        "\n",
        "    transfer_to_savings(self, amount) - subtract parameter amount from the checking account balance and add to the savings account balance (only if positive)"
      ]
    },
    {
      "cell_type": "code",
      "source": [
        "class BankAccount():\n",
        "  list = []\n",
        "  def __init__(self, new_name : str , checking_balance : float, savings_balance : float):\n",
        "    self.checking_balance = float(input(\"Checking: \"))\n",
        "    assert self.checking_balance > 0\n",
        "    self.savings_balance = float(input(\"Savings: \"))\n",
        "    assert self.savings_balance > 0\n",
        "    self.new_name = str(input(\"Name: \"))\n",
        "  def deposit_checking(self, amount: float):\n",
        "    self.amount = float(input(\"Amount: \"))\n",
        "    BankAccount.list.append(self)\n",
        "    resultc = self.checking_balance + self.amount\n",
        "    print(\"Total is ${} for the checking account\".format(resultc))\n",
        "  def deposit_savings(self, amount: float):\n",
        "    self.amount = float(input(\"Amount: \"))\n",
        "    BankAccount.list.append(self)\n",
        "    results = self.savings_balance + self.amount\n",
        "    print(\"Total is ${} for the savings account\".format(results))\n",
        "  def withdraw_checking(self, amount: float):\n",
        "    self.amount = float(input(\"Amount: \"))\n",
        "    BankAccount.list.append(self)\n",
        "    resultwc = self.savings_balance - self.amount\n",
        "    assert resultwc > 0\n",
        "    print(\"Total is ${} for the checking account after a withdraw\".format(resultwc))\n",
        "  def withdraw_savings(self, amount: float):\n",
        "    self.amount = float(input(\"Amount: \"))\n",
        "    BankAccount.list.append(self)\n",
        "    resultws = self.savings_balance - self.amount\n",
        "    assert resultws > 0\n",
        "    print(\"Total is ${} for the savings account after a withdraw\".format(resultws))\n",
        "  def transfer_to_savings(self, amount: float):\n",
        "    self.amount = float(input(\"Amount: \"))\n",
        "    BankAccount.list.append(self)\n",
        "    result_transfer = self.checking_balance - self.amount\n",
        "    result_transfer1 = self.savings_balance + self.amount\n",
        "    assert result_transfer > 0\n",
        "    print(\"After a withdraw of ${} from the checking account, your savings acount now has ${}\".format(self.amount, result_transfer1))"
      ],
      "metadata": {
        "id": "7bnJuO0qKWKO"
      },
      "execution_count": null,
      "outputs": []
    },
    {
      "cell_type": "code",
      "source": [
        "bank = BankAccount(\"Kelsey\",5,6)\n",
        "bank.deposit_checking(8)"
      ],
      "metadata": {
        "id": "1ALFypXBIzSa"
      },
      "execution_count": null,
      "outputs": []
    },
    {
      "cell_type": "code",
      "source": [
        "bank = BankAccount(\"Kelsey\",5,6)\n",
        "bank.deposit_savings(1)"
      ],
      "metadata": {
        "id": "Bw96bPk6LZcK"
      },
      "execution_count": null,
      "outputs": []
    },
    {
      "cell_type": "code",
      "source": [
        "bank = BankAccount(\"Kelsey\",5,6)\n",
        "bank.withdraw_checking(1)"
      ],
      "metadata": {
        "id": "-hKimbUJMNDp"
      },
      "execution_count": null,
      "outputs": []
    },
    {
      "cell_type": "code",
      "source": [
        "bank = BankAccount(\"Kelsey\",5,6)\n",
        "bank.withdraw_savings(1)"
      ],
      "metadata": {
        "id": "OVUIJZCjmKhD"
      },
      "execution_count": null,
      "outputs": []
    },
    {
      "cell_type": "code",
      "source": [
        "bank = BankAccount(\"Kelsey\",5,6)\n",
        "bank.transfer_to_savings(1)"
      ],
      "metadata": {
        "id": "_jbDi_6CmKd8"
      },
      "execution_count": null,
      "outputs": []
    }
  ]
}